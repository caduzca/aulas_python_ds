{
 "cells": [
  {
   "cell_type": "raw",
   "id": "df9523ea-033d-4915-aff1-8aff8f37c74a",
   "metadata": {},
   "source": [
    "#Atividade gráfico preço bitcoin:\n",
    "Utilizando o dataset disponível no Classroom, realizar a plotagem do gráfico \n",
    "entre as colunas de 'Timestamp' e 'Close'.\n",
    "\n",
    "Desafios/etapas:\n",
    "1 - importar a biblioteca pandas no Jupyter\n",
    "2 - ler o arquivo .csv\n",
    "3 - apresentar informações básicas do dataset\n",
    "4 - limpar as linhas que possuirem dados vazios\n",
    "5 - transformar a coluna 'Timestamp' para o tipo datetime\n",
    "6 - plotar o gráfico usando as colunas 'Timestamp' e 'Close'.\n",
    "7 - estilizar a o gráfico"
   ]
  },
  {
   "cell_type": "code",
   "execution_count": null,
   "id": "2bbe484d-f7e7-4e6c-940e-532301720151",
   "metadata": {},
   "outputs": [],
   "source": []
  }
 ],
 "metadata": {
  "kernelspec": {
   "display_name": "Python 3 (ipykernel)",
   "language": "python",
   "name": "python3"
  },
  "language_info": {
   "codemirror_mode": {
    "name": "ipython",
    "version": 3
   },
   "file_extension": ".py",
   "mimetype": "text/x-python",
   "name": "python",
   "nbconvert_exporter": "python",
   "pygments_lexer": "ipython3",
   "version": "3.12.4"
  }
 },
 "nbformat": 4,
 "nbformat_minor": 5
}
